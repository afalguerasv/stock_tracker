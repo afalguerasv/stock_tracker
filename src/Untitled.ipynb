{
 "cells": [
  {
   "cell_type": "code",
   "execution_count": 1,
   "id": "2329013d",
   "metadata": {},
   "outputs": [],
   "source": [
    "import pandas as pd\n",
    "import requests\n",
    "from bs4 import BeautifulSoup"
   ]
  },
  {
   "cell_type": "code",
   "execution_count": 2,
   "id": "53525f51",
   "metadata": {},
   "outputs": [
    {
     "name": "stdout",
     "output_type": "stream",
     "text": [
      "response.ok : True , response.status_code : 200\n"
     ]
    }
   ],
   "source": [
    "# get data from url\n",
    "# TODO\n",
    "# later this will be executed for a list of tickers\n",
    "\n",
    "my_url = 'https://es.finance.yahoo.com/quote/ITX.MC?p=ITX.MC&.tsrc=fin-srch'\n",
    "#headers needed to use requests\n",
    "headers={'User-Agent':'Mozilla/5.0 (Windows NT 10.0; Win64; x64) AppleWebKit/537.36 (KHTML, like Gecko) Chrome/94.0.4606.61 Safari/537.36'}\n",
    "response = requests.get(my_url, headers=headers)\n",
    "print(\"response.ok : {} , response.status_code : {}\".format(response.ok , response.status_code))\n",
    "\n"
   ]
  },
  {
   "cell_type": "code",
   "execution_count": 3,
   "id": "86bc997a",
   "metadata": {},
   "outputs": [],
   "source": [
    "#print a preview to check what we get\n",
    "# print(\"Preview of response.text : \", response.text[50000:50000])"
   ]
  },
  {
   "cell_type": "code",
   "execution_count": 4,
   "id": "000fbd24",
   "metadata": {},
   "outputs": [],
   "source": [
    "data = response.text\n",
    "# parsing data to html \n",
    "web = BeautifulSoup(data, 'html.parser')"
   ]
  },
  {
   "cell_type": "code",
   "execution_count": 5,
   "id": "9cc17d5b",
   "metadata": {},
   "outputs": [],
   "source": [
    "#getting desired elements\n",
    "tags = web.find_all('fin-streamer', {'data-symbol': \"ITX.MC\"})\n",
    "# print(len(tags))\n",
    "# print(tags[0])"
   ]
  },
  {
   "cell_type": "code",
   "execution_count": 6,
   "id": "b01cc30f",
   "metadata": {},
   "outputs": [
    {
     "name": "stdout",
     "output_type": "stream",
     "text": [
      "regularMarketPrice 28.51\n",
      "regularMarketChange -0.11999893\n",
      "regularMarketChangePercent -0.00419137\n",
      "regularMarketTime \n",
      "marketState \n",
      "regularMarketVolume 3.084.684\n"
     ]
    }
   ],
   "source": [
    "for tag in tags:\n",
    "#     print(\"Source: \", tag.find('value'))\n",
    "#     print(tag)    \n",
    "    print(f'{tag.get(\"data-field\")} {tag.get(\"value\")}')"
   ]
  },
  {
   "cell_type": "code",
   "execution_count": 53,
   "id": "b0ce31d6",
   "metadata": {
    "scrolled": true
   },
   "outputs": [],
   "source": [
    "text = web.find_all('td', {\"class\": \"C($primaryColor) W(51%)\"})\n",
    "values = web.find_all('td', {\"class\": \"Ta(end) Fw(600) Lh(14px)\"})"
   ]
  },
  {
   "cell_type": "code",
   "execution_count": 55,
   "id": "a5887134",
   "metadata": {},
   "outputs": [
    {
     "name": "stdout",
     "output_type": "stream",
     "text": [
      "Cierre anterior == 28,63\n",
      "Abrir == 28,54\n",
      "Oferta == 28,47 x N/A\n",
      "Precio de compra == 28,52 x N/A\n",
      "Rango diario == 28,00 - 28,77\n",
      "Intervalo de 52 semanas == 19,00 - 29,64\n",
      "Volumen == 3.084.684\n",
      "Media Volumen == 2.551.836\n",
      "Capitalización de mercado == 88,735B\n",
      "Beta (5 años al mes) == 1,07\n",
      "Ratio precio/beneficio (TMTM) == 23,18\n",
      "BPA (TTM): == 1,23\n",
      "Fecha de beneficios == 06 jun 2023 - 12 jun 2023\n",
      "Previsión de rentabilidad y dividendo == 0,39 (1,37%)\n",
      "Fecha de exdividendo == 27 abr 2023\n",
      "Objetivo est 1a == 27,54\n"
     ]
    }
   ],
   "source": [
    "for index, field in enumerate(text):\n",
    "    print(f'{field.text} == {values[index].text}')    "
   ]
  },
  {
   "cell_type": "code",
   "execution_count": null,
   "id": "227b08f2",
   "metadata": {},
   "outputs": [],
   "source": []
  }
 ],
 "metadata": {
  "kernelspec": {
   "display_name": "Python 3 (ipykernel)",
   "language": "python",
   "name": "python3"
  },
  "language_info": {
   "codemirror_mode": {
    "name": "ipython",
    "version": 3
   },
   "file_extension": ".py",
   "mimetype": "text/x-python",
   "name": "python",
   "nbconvert_exporter": "python",
   "pygments_lexer": "ipython3",
   "version": "3.9.13"
  }
 },
 "nbformat": 4,
 "nbformat_minor": 5
}
