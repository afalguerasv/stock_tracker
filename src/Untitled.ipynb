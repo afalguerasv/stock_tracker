{
 "cells": [
  {
   "cell_type": "code",
   "execution_count": 1,
   "id": "2329013d",
   "metadata": {},
   "outputs": [],
   "source": [
    "import pandas as pd\n",
    "import requests\n",
    "from bs4 import BeautifulSoup"
   ]
  },
  {
   "cell_type": "code",
   "execution_count": 3,
   "id": "53525f51",
   "metadata": {},
   "outputs": [
    {
     "name": "stdout",
     "output_type": "stream",
     "text": [
      "response.ok : True , response.status_code : 200\n"
     ]
    }
   ],
   "source": [
    "# get data from url\n",
    "# TODO\n",
    "# later this will be executed for a list of tickers\n",
    "\n",
    "my_url = 'https://es.finance.yahoo.com/quote/ITX.MC?p=ITX.MC&.tsrc=fin-srch'\n",
    "#headers needed to use requests\n",
    "headers={'User-Agent':'Mozilla/5.0 (Windows NT 10.0; Win64; x64) AppleWebKit/537.36 (KHTML, like Gecko) Chrome/94.0.4606.61 Safari/537.36'}\n",
    "response = requests.get(my_url, headers=headers)\n",
    "print(\"response.ok : {} , response.status_code : {}\".format(response.ok , response.status_code))\n",
    "\n"
   ]
  },
  {
   "cell_type": "code",
   "execution_count": 40,
   "id": "86bc997a",
   "metadata": {},
   "outputs": [],
   "source": [
    "#print a preview to check what we get\n",
    "# print(\"Preview of response.text : \", response.text[50000:50000])"
   ]
  },
  {
   "cell_type": "code",
   "execution_count": 5,
   "id": "000fbd24",
   "metadata": {},
   "outputs": [
    {
     "name": "stdout",
     "output_type": "stream",
     "text": [
      "<class 'bs4.BeautifulSoup'>\n"
     ]
    }
   ],
   "source": [
    "data = response.text\n",
    "# parsing data to html \n",
    "web = BeautifulSoup(data, 'html.parser')"
   ]
  },
  {
   "cell_type": "code",
   "execution_count": 24,
   "id": "9cc17d5b",
   "metadata": {},
   "outputs": [
    {
     "name": "stdout",
     "output_type": "stream",
     "text": [
      "6\n",
      "<fin-streamer active=\"\" class=\"Fw(b) Fz(36px) Mb(-4px) D(ib)\" data-field=\"regularMarketPrice\" data-pricehint=\"2\" data-symbol=\"ITX.MC\" data-test=\"qsp-price\" data-trend=\"none\" value=\"28.63\">28,63</fin-streamer>\n"
     ]
    }
   ],
   "source": [
    "#getting desired elements\n",
    "tags = web.find_all('fin-streamer', {'data-symbol': \"ITX.MC\"})\n",
    "# print(len(tags))\n",
    "# print(tags[0])"
   ]
  },
  {
   "cell_type": "code",
   "execution_count": 39,
   "id": "b01cc30f",
   "metadata": {},
   "outputs": [
    {
     "name": "stdout",
     "output_type": "stream",
     "text": [
      "regularMarketPrice 28.63\n",
      "regularMarketChange -0.1400013\n",
      "regularMarketChangePercent -0.004866225\n",
      "regularMarketTime \n",
      "marketState \n",
      "regularMarketVolume 6.404.695\n"
     ]
    }
   ],
   "source": [
    "for tag in tags:\n",
    "#     print(\"Source: \", tag.find('value'))\n",
    "#     print(tag)    \n",
    "    print(f'{tag.get(\"data-field\")} {tag.get(\"value\")}')"
   ]
  },
  {
   "cell_type": "code",
   "execution_count": 56,
   "id": "b0ce31d6",
   "metadata": {
    "scrolled": true
   },
   "outputs": [],
   "source": [
    "# summary = web.find('div', {'id': \"quote-summary\"})\n",
    "summary = web.find_all('tr', {'class': \"Bxz(bb) Bdbw(1px) Bdbs(s) Bdc($seperatorColor) H(36px)\"})\n",
    "# print(summary)\n"
   ]
  },
  {
   "cell_type": "code",
   "execution_count": 58,
   "id": "a5887134",
   "metadata": {},
   "outputs": [
    {
     "name": "stdout",
     "output_type": "stream",
     "text": [
      "[<tr class=\"Bxz(bb) Bdbw(1px) Bdbs(s) Bdc($seperatorColor) H(36px)\"><td class=\"C($primaryColor) W(51%)\"><span>Cierre anterior</span></td><td class=\"Ta(end) Fw(600) Lh(14px)\" data-test=\"PREV_CLOSE-value\">28,77</td></tr>, <tr class=\"Bxz(bb) Bdbw(1px) Bdbs(s) Bdc($seperatorColor) H(36px)\"><td class=\"C($primaryColor) W(51%)\"><span>Abrir</span></td><td class=\"Ta(end) Fw(600) Lh(14px)\" data-test=\"OPEN-value\">29,07</td></tr>, <tr class=\"Bxz(bb) Bdbw(1px) Bdbs(s) Bdc($seperatorColor) H(36px)\"><td class=\"C($primaryColor) W(51%)\"><span>Oferta</span></td><td class=\"Ta(end) Fw(600) Lh(14px)\" data-test=\"BID-value\">28,62 x N/A</td></tr>, <tr class=\"Bxz(bb) Bdbw(1px) Bdbs(s) Bdc($seperatorColor) H(36px)\"><td class=\"C($primaryColor) W(51%)\"><span>Precio de compra</span></td><td class=\"Ta(end) Fw(600) Lh(14px)\" data-test=\"ASK-value\">28,63 x N/A</td></tr>, <tr class=\"Bxz(bb) Bdbw(1px) Bdbs(s) Bdc($seperatorColor) H(36px)\"><td class=\"C($primaryColor) W(51%)\"><span>Rango diario</span></td><td class=\"Ta(end) Fw(600) Lh(14px)\" data-test=\"DAYS_RANGE-value\">28,32 - 29,23</td></tr>, <tr class=\"Bxz(bb) Bdbw(1px) Bdbs(s) Bdc($seperatorColor) H(36px)\"><td class=\"C($primaryColor) W(51%)\"><span>Intervalo de 52 semanas</span></td><td class=\"Ta(end) Fw(600) Lh(14px)\" data-test=\"FIFTY_TWO_WK_RANGE-value\">19,00 - 29,64</td></tr>, <tr class=\"Bxz(bb) Bdbw(1px) Bdbs(s) Bdc($seperatorColor) H(36px)\"><td class=\"C($primaryColor) W(51%)\"><span>Volumen</span></td><td class=\"Ta(end) Fw(600) Lh(14px)\" data-test=\"TD_VOLUME-value\"><fin-streamer active=\"\" data-dfield=\"longFmt\" data-field=\"regularMarketVolume\" data-pricehint=\"2\" data-symbol=\"ITX.MC\" data-trend=\"none\" value=\"6.404.695\">6.404.695</fin-streamer></td></tr>, <tr class=\"Bxz(bb) Bdbw(1px) Bdbs(s) Bdc($seperatorColor) H(36px)\"><td class=\"C($primaryColor) W(51%)\"><span>Capitalización de mercado</span></td><td class=\"Ta(end) Fw(600) Lh(14px)\" data-test=\"MARKET_CAP-value\">90,348B</td></tr>, <tr class=\"Bxz(bb) Bdbw(1px) Bdbs(s) Bdc($seperatorColor) H(36px)\"><td class=\"C($primaryColor) W(51%)\"><span>Beta (5 años al mes)</span></td><td class=\"Ta(end) Fw(600) Lh(14px)\" data-test=\"BETA_5Y-value\">1,07</td></tr>, <tr class=\"Bxz(bb) Bdbw(1px) Bdbs(s) Bdc($seperatorColor) H(36px)\"><td class=\"C($primaryColor) W(51%)\"><span>Ratio precio/beneficio (TMTM)</span></td><td class=\"Ta(end) Fw(600) Lh(14px)\" data-test=\"PE_RATIO-value\">23,47</td></tr>, <tr class=\"Bxz(bb) Bdbw(1px) Bdbs(s) Bdc($seperatorColor) H(36px)\"><td class=\"C($primaryColor) W(51%)\"><span>BPA (TTM):</span></td><td class=\"Ta(end) Fw(600) Lh(14px)\" data-test=\"EPS_RATIO-value\">1,22</td></tr>, <tr class=\"Bxz(bb) Bdbw(1px) Bdbs(s) Bdc($seperatorColor) H(36px)\"><td class=\"C($primaryColor) W(51%)\"><span>Fecha de beneficios</span></td><td class=\"Ta(end) Fw(600) Lh(14px)\" data-test=\"EARNINGS_DATE-value\"><span>06 jun 2023</span> - <span>12 jun 2023</span></td></tr>, <tr class=\"Bxz(bb) Bdbw(1px) Bdbs(s) Bdc($seperatorColor) H(36px)\"><td class=\"C($primaryColor) W(51%)\"><span>Previsión de rentabilidad y dividendo</span></td><td class=\"Ta(end) Fw(600) Lh(14px)\" data-test=\"DIVIDEND_AND_YIELD-value\">0,63 (2,16%)</td></tr>, <tr class=\"Bxz(bb) Bdbw(1px) Bdbs(s) Bdc($seperatorColor) H(36px)\"><td class=\"C($primaryColor) W(51%)\"><span>Fecha de exdividendo</span></td><td class=\"Ta(end) Fw(600) Lh(14px)\" data-test=\"EX_DIVIDEND_DATE-value\"><span>27 abr 2023</span></td></tr>]\n"
     ]
    }
   ],
   "source": [
    "# for child in summary.children:\n",
    "#     print(child.tr)\n",
    "print(summary)\n",
    "    "
   ]
  },
  {
   "cell_type": "code",
   "execution_count": null,
   "id": "227b08f2",
   "metadata": {},
   "outputs": [],
   "source": []
  }
 ],
 "metadata": {
  "kernelspec": {
   "display_name": "Python 3 (ipykernel)",
   "language": "python",
   "name": "python3"
  },
  "language_info": {
   "codemirror_mode": {
    "name": "ipython",
    "version": 3
   },
   "file_extension": ".py",
   "mimetype": "text/x-python",
   "name": "python",
   "nbconvert_exporter": "python",
   "pygments_lexer": "ipython3",
   "version": "3.9.13"
  }
 },
 "nbformat": 4,
 "nbformat_minor": 5
}
